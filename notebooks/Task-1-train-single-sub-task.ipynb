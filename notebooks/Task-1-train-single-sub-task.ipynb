{
 "cells": [
  {
   "cell_type": "markdown",
   "id": "16107d32",
   "metadata": {},
   "source": [
    "# DRAC2022 Task 1 Experiment Notebook\n",
    "* creator: Jungrae Cho (team: FindDR)\n",
    "* created: November 25 2022"
   ]
  },
  {
   "cell_type": "markdown",
   "id": "55301991",
   "metadata": {},
   "source": [
    "This notebook train a sub-task of Task 1 in DRAC2022.\n",
    "\n",
    "Sub-task contains IRMAs, non-perfusion area, and neovascularization.\n",
    "\n",
    "Therefore total 3 models is expected to be generated for each sub-task.\n",
    "\n",
    "And each trained model is expected to produce a submission file; `1.nii.gz`, `2.nii.gz` and `3.nii.gz`."
   ]
  },
  {
   "cell_type": "markdown",
   "id": "d891644f",
   "metadata": {},
   "source": [
    "# Prerequisites"
   ]
  },
  {
   "cell_type": "code",
   "execution_count": null,
   "id": "9c929ac5",
   "metadata": {},
   "outputs": [],
   "source": [
    "!git clone https://github.com/zhuanjiao2222/DRAC2022.git\n",
    "!git clone https://github.com/MIC-DKFZ/nnUNet.git\n",
    "    \n",
    "!cp nnUNetTrainerV2_20epochs.py ./nnUNet/nnunet/training/network_training/nnUNet_variants/benchmarking/\n",
    "!cp nnUNetTrainerV2_3ConvPerStage_20epochs.py ./content/nnUNet/nnunet/training/network_training/nnUNet_variants/architectural_variants/\n",
    "\n",
    "!pip install natsort\n",
    "!pip install -e /content/nnUNet"
   ]
  },
  {
   "cell_type": "markdown",
   "id": "362bd646",
   "metadata": {},
   "source": [
    "After installation, restart the notebook."
   ]
  },
  {
   "cell_type": "markdown",
   "id": "f90a7e3c",
   "metadata": {},
   "source": [
    "# Import packages"
   ]
  },
  {
   "cell_type": "code",
   "execution_count": null,
   "id": "868705b1",
   "metadata": {},
   "outputs": [],
   "source": [
    "import shutil\n",
    "import pathlib\n",
    "import zipfile\n",
    "import os\n",
    "import cv2\n",
    "import SimpleITK\n",
    "\n",
    "import matplotlib.pyplot as plt\n",
    "import numpy as np\n",
    "\n",
    "from datetime import datetime\n",
    "from pytz import timezone\n",
    "from tqdm.notebook import tqdm\n",
    "from glob import glob\n",
    "from PIL import Image\n",
    "from urllib import request\n",
    "from nnunet.dataset_conversion.utils import generate_dataset_json\n",
    "from nnunet.utilities.file_conversions import convert_2d_segmentation_nifti_to_img"
   ]
  },
  {
   "cell_type": "markdown",
   "id": "559faf54",
   "metadata": {},
   "source": [
    "# Structure data"
   ]
  },
  {
   "cell_type": "markdown",
   "id": "25837153",
   "metadata": {},
   "source": [
    "Download DRAC2022 dataset checkt out its directory structure.\n",
    "\n",
    "Dataset structure should be like this:\n",
    "```\n",
    "./DRAC2022_Data_Set/\n",
    "    ├── DRAC2022_Testing_Set\n",
    "    │   ├── A. Segmentation\n",
    "    │   │   └── 1. Original Images\n",
    "    │   │       └── b. Testing Set\n",
    "    │   ├── B. Image Quality Assessment\n",
    "    │   │   └── 1. Original Images\n",
    "    │   │       └── b. Testing Set\n",
    "    │   └── C. Diabetic Retinopathy Grading\n",
    "    │       └── 1. Original Images\n",
    "    │           └── b. Testing Set\n",
    "    └── DRAC2022_Training_Set\n",
    "        ├── A. Segmentation\n",
    "        │   ├── 1. Original Images\n",
    "        │   │   └── a. Training Set\n",
    "        │   └── 2. Groundtruths\n",
    "        │       └── a. Training Set\n",
    "        │           ├── 1. Intraretinal Microvascular Abnormalities\n",
    "        │           ├── 2. Nonperfusion Areas\n",
    "        │           └── 3. Neovascularization\n",
    "        ├── B. Image Quality Assessment\n",
    "        │   ├── 1. Original Images\n",
    "        │   │   └── a. Training Set\n",
    "        │   └── 2. Groundtruths\n",
    "        └── C. Diabetic Retinopathy Grading\n",
    "            ├── 1. Original Images\n",
    "            │   └── a. Training Set\n",
    "            └── 2. Groundtruths\n",
    "```"
   ]
  },
  {
   "cell_type": "code",
   "execution_count": null,
   "id": "190bb576",
   "metadata": {},
   "outputs": [],
   "source": [
    "data_root = \"./DRAC2022_Data_Set/\" # download and specify DRAC2022 dataset directory path\n",
    "\n",
    "img_paths = glob(os.path.join(data_root, \"*\",\"*\",\"*\",\"*\",\"*.png\")) # path of images\n",
    "seg_paths = glob(os.path.join(data_root, \"*\",\"*\",\"*\",\"*\",\"*\",\"*.png\")) # path of labels\n",
    "\n",
    "csv_paths = glob(os.path.join(data_root, \"*\",\"*\",\"*\",\"*.csv\")) # path of labels\n",
    "\n",
    "print(\"# of images: \", len(img_paths))\n",
    "print(\"# of CSV files: \",len(csv_paths))\n",
    "print(\"# of segmentation mask images: \", len(seg_paths))\n",
    "print(\"Example of image path: \", img_paths[0])"
   ]
  },
  {
   "cell_type": "code",
   "execution_count": null,
   "id": "20b47a3e",
   "metadata": {},
   "outputs": [],
   "source": [
    "tasks = []\n",
    "data_splits = []\n",
    "for img_path in img_paths:\n",
    "    parser = img_path.split(\"/\")\n",
    "    task = parser[-4]\n",
    "    data_split = parser[-2]\n",
    "    tasks.append(task)\n",
    "    data_splits.append(data_split)\n",
    "tasks = sorted(list(set(tasks)))\n",
    "print(\"Tasks of DRAC2022:\")\n",
    "print(tasks)"
   ]
  },
  {
   "cell_type": "code",
   "execution_count": null,
   "id": "7813425b",
   "metadata": {},
   "outputs": [],
   "source": [
    "seg_img_paths = {\n",
    "    \"train\":[],\n",
    "    \"test\":[]\n",
    "}\n",
    "for img_path in img_paths:\n",
    "    if tasks[0] in img_path:\n",
    "        if data_splits[0] in img_path:\n",
    "            seg_img_paths[\"train\"].append(img_path)\n",
    "        else:\n",
    "            seg_img_paths[\"test\"].append(img_path)\n",
    "\n",
    "print(\"# of data for Task 1:\")\n",
    "for k, v in seg_img_paths.items():\n",
    "    print(k,\":\", len(v))"
   ]
  },
  {
   "cell_type": "markdown",
   "id": "850da935",
   "metadata": {},
   "source": [
    "# Create nnUNet-style dataset"
   ]
  },
  {
   "cell_type": "code",
   "execution_count": null,
   "id": "bb2c0b0b",
   "metadata": {},
   "outputs": [],
   "source": [
    "def arr2nii(data, filename, reference_name=None):\n",
    "    img = SimpleITK.GetImageFromArray(data)\n",
    "    if (reference_name is not None):\n",
    "        img_ref = SimpleITK.ReadImage(reference_name)\n",
    "        img_ref = img_ref[...,:1]\n",
    "        img.CopyInformation(img_ref)\n",
    "    SimpleITK.WriteImage(img, filename)\n",
    "\n",
    "def get_sub_paths(dataset_path):\n",
    "    images_train_dir = os.path.join(dataset_path, 'imagesTr')\n",
    "    images_test_dir = os.path.join(dataset_path, 'imagesTs')\n",
    "    labels_train_dir = os.path.join(dataset_path, 'labelsTr')\n",
    "\n",
    "    return images_train_dir, images_test_dir, labels_train_dir\n",
    "\n",
    "def create_dirs(dataset_path):\n",
    "    os.makedirs(dataset_path,exist_ok=True)\n",
    "    images_train_dir, images_test_dir, labels_train_dir = get_sub_paths(dataset_path)\n",
    "\n",
    "    os.makedirs(images_train_dir,exist_ok=True)\n",
    "    os.makedirs(images_test_dir,exist_ok=True)\n",
    "    os.makedirs(labels_train_dir,exist_ok=True)\n",
    "\n",
    "    print('Directory structure created for dataset')\n",
    "\n",
    "def create_dataset(dataset_path):\n",
    "    mask_paths = [seg_path for seg_path in seg_paths if int(seg_path.split(\"/\")[-2][0]) == int(dataset_path.split(\"Task70\")[-1][0])]\n",
    "    mask_paths = sorted(mask_paths, reverse=False, key=lambda x: int(x.split(\"/\")[-1][:-4]))\n",
    "    images_train_dir, images_test_dir, labels_train_dir = get_sub_paths(dataset_path)\n",
    "\n",
    "    new_img_number = 0\n",
    "    for mask_path in tqdm(mask_paths):\n",
    "        mask_number = mask_path.split(\"/\")[-1][:-4]\n",
    "        for img_path in seg_img_paths[\"train\"]:\n",
    "            img_number = img_path.split(\"/\")[-1][:-4]\n",
    "            if mask_number == img_number:\n",
    "                img = cv2.imread(img_path, -1)\n",
    "                mask = cv2.imread(mask_path, -1)\n",
    "\n",
    "                img = cv2.resize(img, (512,512))\n",
    "                mask = cv2.resize(mask, (512,512))\n",
    "\n",
    "                mask = (mask // 255).astype(np.int32)\n",
    "\n",
    "                img = np.expand_dims(img, 0)\n",
    "                mask = np.expand_dims(mask, 0)\n",
    "\n",
    "                img = np.transpose(img, (0,2,1))\n",
    "                mask = np.transpose(mask, (0,2,1))\n",
    "\n",
    "                img_number = int(img_number)\n",
    "                file_name = f\"DRAC2022_{img_number:03}\"\n",
    "                new_img_path = os.path.join(images_train_dir, file_name+\"_0000.nii.gz\")\n",
    "                new_mask_path = os.path.join(labels_train_dir, file_name+\".nii.gz\")\n",
    "                \n",
    "                arr2nii(img, new_img_path)\n",
    "                arr2nii(mask, new_mask_path)\n",
    "\n",
    "                new_img_number += 1\n",
    "\n",
    "                break\n",
    "\n",
    "    for img_path in tqdm(seg_img_paths[\"test\"]):\n",
    "        img_number = int(img_path.split(\"/\")[-1][:-4])\n",
    "        file_name = f\"DRAC2022_{img_number:03}_0000.nii.gz\"\n",
    "        new_img_path = os.path.join(images_test_dir, file_name)\n",
    "\n",
    "        img = cv2.imread(img_path, -1)\n",
    "        img = cv2.resize(img, (512,512))\n",
    "        img = np.expand_dims(img, 0)\n",
    "        img = np.transpose(img, (0,2,1))\n",
    "        arr2nii(img, new_img_path)\n",
    "\n",
    "        new_img_number += 1"
   ]
  },
  {
   "cell_type": "code",
   "execution_count": null,
   "id": "f05a230f",
   "metadata": {},
   "outputs": [],
   "source": [
    "here = pathlib.Path('.').resolve()\n",
    "\n",
    "nnUNet_raw_data_base = here.joinpath('nnUNet_raw_data_base')\n",
    "nnUNet_preprocessed = here.joinpath('nnUNet_preprocessed')\n",
    "results_folder = here.joinpath('results')\n",
    "\n",
    "raw_data_dir = nnUNet_raw_data_base.joinpath('nnUNet_raw_data')\n",
    "raw_data_dir.mkdir(exist_ok=True, parents=True)"
   ]
  },
  {
   "cell_type": "code",
   "execution_count": null,
   "id": "3fa30bab",
   "metadata": {},
   "outputs": [],
   "source": [
    "seg_tasks = [\"1_IRMA\",\"2_NonPerfusion\", \"3_Neovascularization\"]\n",
    "\n",
    "dataset_paths = [os.path.join(raw_data_dir, f'Task70{seg_task}')for seg_task in seg_tasks]\n",
    "print(\"Sub-tasks of Task 1:\")\n",
    "print(seg_tasks,\"\\n\")\n",
    "\n",
    "print(\"Directory path of sub-tasks: \", dataset_paths)"
   ]
  },
  {
   "cell_type": "code",
   "execution_count": null,
   "id": "84c2be99",
   "metadata": {
    "scrolled": true
   },
   "outputs": [],
   "source": [
    "for dataset_path in dataset_paths:\n",
    "    create_dirs(dataset_path)\n",
    "    create_dataset(dataset_path)"
   ]
  },
  {
   "cell_type": "markdown",
   "id": "f23370b6",
   "metadata": {},
   "source": [
    "# Preprocess data and generate a nnUNet plan"
   ]
  },
  {
   "cell_type": "code",
   "execution_count": null,
   "id": "08df9a03",
   "metadata": {},
   "outputs": [],
   "source": [
    "TASK_TO_TRAIN = 0 # 0: 'Task701_IRMA', 1: 'Task702_NonPerfusion' 2: 'Task703_Neovascularization'"
   ]
  },
  {
   "cell_type": "code",
   "execution_count": null,
   "id": "351790ac",
   "metadata": {},
   "outputs": [],
   "source": [
    "os.environ[\"nnUNet_raw_data_base\"] = str(nnUNet_raw_data_base)\n",
    "os.environ[\"nnUNet_preprocessed\"] = str(nnUNet_preprocessed)\n",
    "os.environ[\"RESULTS_FOLDER\"] = str(results_folder)\n",
    "\n",
    "task_names = sorted(os.listdir(raw_data_dir)) # ['Task701_IRMA', 'Task702_NonPerfusion', 'Task703_Neovascularization']\n",
    "task_name = task_names[TASK_TO_TRAIN] \n",
    "task_number = task_name.split(\"_\")[0].split(\"Task\")[-1]\n",
    "target_base = os.path.join(raw_data_dir, task_name)\n",
    "target_imagesTr = os.path.join(target_base, \"imagesTr\")\n",
    "target_imagesTs = os.path.join(target_base, \"imagesTs\")\n",
    "target_labelsTs = os.path.join(target_base, \"labelsTs\")\n",
    "target_labelsTr = os.path.join(target_base, \"labelsTr\")\n",
    "\n",
    "print(\"Current sub-task: \", task_name)"
   ]
  },
  {
   "cell_type": "code",
   "execution_count": null,
   "id": "d4695ac6",
   "metadata": {},
   "outputs": [],
   "source": [
    "target_imagesTs"
   ]
  },
  {
   "cell_type": "code",
   "execution_count": null,
   "id": "2ac85919",
   "metadata": {},
   "outputs": [],
   "source": [
    "generate_dataset_json(os.path.join(target_base, 'dataset.json'), target_imagesTr, target_imagesTs, ('SSOCTA',),\n",
    "                        labels={0: 'background', 1: 'abnormality'}, dataset_name=task_name, license='hands off!')"
   ]
  },
  {
   "cell_type": "code",
   "execution_count": null,
   "id": "bfaa4ed3",
   "metadata": {},
   "outputs": [],
   "source": [
    "!nnUNet_plan_and_preprocess -t {task_number}"
   ]
  },
  {
   "cell_type": "markdown",
   "id": "f68fa760",
   "metadata": {},
   "source": [
    "# Train nnUNet"
   ]
  },
  {
   "cell_type": "code",
   "execution_count": null,
   "id": "1e0f1b32",
   "metadata": {},
   "outputs": [],
   "source": [
    "\"\"\"\n",
    "List of models:\n",
    "1. \n",
    "2. nnUNetTrainerV2_20epochs\n",
    "3. nnUNetTrainerV2_3ConvPerStage_20epochs\n",
    "\"\"\"\n",
    "MODEL_TO_TRAIN = \"nnUNetTrainerV2_3ConvPerStage_20epochs\""
   ]
  },
  {
   "cell_type": "code",
   "execution_count": null,
   "id": "f878d025",
   "metadata": {},
   "outputs": [],
   "source": [
    "!nnUNet_train 2d {MODEL_TO_TRAIN} {task_name} 0 "
   ]
  },
  {
   "cell_type": "markdown",
   "id": "9133232a",
   "metadata": {},
   "source": [
    "# Infer model for submission"
   ]
  },
  {
   "cell_type": "code",
   "execution_count": null,
   "id": "54cb9c75",
   "metadata": {},
   "outputs": [],
   "source": [
    "test_output_folder = here.joinpath(\"test_output\")\n",
    "test_output_folder = test_output_folder.joinpath(task_name)\n",
    "test_output_folder.mkdir(exist_ok=True, parents=True)"
   ]
  },
  {
   "cell_type": "code",
   "execution_count": null,
   "id": "1d92a09b",
   "metadata": {},
   "outputs": [],
   "source": [
    "!nnUNet_predict -i {target_imagesTs} -o {test_output_folder} -t {task_number} -m 2d --save_npz"
   ]
  },
  {
   "cell_type": "markdown",
   "id": "12ba03c8",
   "metadata": {},
   "source": [
    "# Postprocess and export (for only single sub-task)"
   ]
  },
  {
   "cell_type": "code",
   "execution_count": null,
   "id": "4ba33790",
   "metadata": {},
   "outputs": [],
   "source": [
    "import os\n",
    "import cv2\n",
    "import SimpleITK\n",
    "import numpy as np\n",
    "\n",
    "def read_nii(nii_path, data_type=np.uint16):\n",
    "    img = SimpleITK.ReadImage(nii_path)\n",
    "    data = SimpleITK.GetArrayFromImage(img)\n",
    "    return np.array(data, dtype=data_type)\n",
    "\n",
    "def arr2nii(data, filename, reference_name=None):\n",
    "    img = SimpleITK.GetImageFromArray(data)\n",
    "    if (reference_name is not None):\n",
    "        img_ref = SimpleITK.ReadImage(reference_name)\n",
    "        img.CopyInformation(img_ref)\n",
    "    SimpleITK.WriteImage(img, filename)"
   ]
  },
  {
   "cell_type": "code",
   "execution_count": null,
   "id": "ba1b1979",
   "metadata": {},
   "outputs": [],
   "source": [
    "submission_folder = here.joinpath(\"submission\")\n",
    "submission_folder = submission_folder.joinpath(task_name)\n",
    "submission_folder.mkdir(exist_ok=True, parents=True)"
   ]
  },
  {
   "cell_type": "code",
   "execution_count": null,
   "id": "fd02f1ad",
   "metadata": {},
   "outputs": [],
   "source": [
    "test_root = test_output_folder\n",
    "out_root = submission_folder\n",
    "task_name = task_names[0]\n",
    "task_number = task_name[6]\n",
    "mask = []\n",
    "for file_name in file_names:\n",
    "    _mask = np.load(os.path.join(test_root, task_name, file_name))['softmax']\n",
    "    _mask = np.transpose(_mask, (3, 2, 1, 0))\n",
    "    _mask = np.argmax(_mask, -1)\n",
    "    _mask = np.squeeze(_mask, -1)\n",
    "    _mask = cv2.resize(_mask.astype(np.uint8), (1024, 1024))\n",
    "    mask.append(_mask)\n",
    "mask = np.array(mask)\n",
    "arr2nii(mask, os.path.join(out_root, task_number+\".nii.gz\"))"
   ]
  },
  {
   "cell_type": "markdown",
   "id": "c4933d70",
   "metadata": {},
   "source": [
    "# Visualize"
   ]
  },
  {
   "cell_type": "code",
   "execution_count": null,
   "id": "0f49f08c",
   "metadata": {},
   "outputs": [],
   "source": [
    "img_root = f\"/content/{task_name}/imagesTs\"\n",
    "data = read_nii(os.path.join(out_root, task_number+\".nii.gz\"))\n",
    "data.shape\n",
    "for i in range(data.shape[0]):\n",
    "    img_path = png_paths[i]\n",
    "    img = cv2.imread(img_path, -1)\n",
    "    # img = cv2.resize(img, (512, 512))\n",
    "    \n",
    "    fig, ax = plt.subplots(1,2,figsize=(10,5))\n",
    "    ax[0].imshow(img)\n",
    "    ax[1].imshow(img)\n",
    "    ax[1].imshow(data[i,...], cmap='jet',alpha=0.4)\n",
    "    plt.show()"
   ]
  },
  {
   "cell_type": "markdown",
   "id": "5e6f76f3",
   "metadata": {},
   "source": [
    "# References\n",
    "1. [nnUNet with mini-lung.ipynb](https://colab.research.google.com/github/pymedphys/pymedphys/blob/d23b8adda0e4a7/protyping/auto-segmentation/sb/04-mini-data/053-nnUNet-with-mini-lung.ipynb)\n",
    "2. [nnUNet medium post: nnU-Net : The no-new-UNet for automatic segmentation\n",
    "](https://medium.com/miccai-educational-initiative/nnu-net-the-no-new-unet-for-automatic-segmentation-8d655f3f6d2a)\n",
    "3. [nnUNet workshp repository](https://github.com/IML-DKFZ/nnunet-workshop)\n",
    "4. [nnUNet official repository](https://github.com/MIC-DKFZ/nnUNet)\n",
    "5. [DRAC2022 submission example](https://github.com/zhuanjiao2222/DRAC2022)\n",
    "6. [DRAC2022 official web site](https://drac22.grand-challenge.org/)"
   ]
  },
  {
   "cell_type": "code",
   "execution_count": null,
   "id": "47077a54",
   "metadata": {},
   "outputs": [],
   "source": []
  }
 ],
 "metadata": {
  "kernelspec": {
   "display_name": "drac22deploy",
   "language": "python",
   "name": "drac22deploy"
  },
  "language_info": {
   "codemirror_mode": {
    "name": "ipython",
    "version": 3
   },
   "file_extension": ".py",
   "mimetype": "text/x-python",
   "name": "python",
   "nbconvert_exporter": "python",
   "pygments_lexer": "ipython3",
   "version": "3.8.13"
  }
 },
 "nbformat": 4,
 "nbformat_minor": 5
}
