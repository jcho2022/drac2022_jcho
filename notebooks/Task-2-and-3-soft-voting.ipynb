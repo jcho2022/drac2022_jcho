{
 "cells": [
  {
   "cell_type": "markdown",
   "id": "97a09dda",
   "metadata": {},
   "source": [
    "# Soft-voting and export final submission for DRAC2022"
   ]
  },
  {
   "cell_type": "markdown",
   "id": "60faa26a",
   "metadata": {},
   "source": [
    "* creator: Jungrae Cho (team: FindDR)\n",
    "* created: November 25 2022"
   ]
  },
  {
   "cell_type": "markdown",
   "id": "abd8b30e",
   "metadata": {},
   "source": [
    "5 models trained with 20eps should be prepared.\n",
    "\n",
    "* resnet50d\n",
    "* efficientnet_b3a\n",
    "* efficientnet_b3\n",
    "* skresnext50_32x4d\n",
    "* seresnext50d_32x4d"
   ]
  },
  {
   "cell_type": "markdown",
   "id": "afe18924",
   "metadata": {},
   "source": [
    "Every model should export its own `submission.csv` like:\n",
    "```\n",
    "['timm-efficient_b3a-drac2022-task3-20220911-1_FindDR.csv',\n",
    " 'timm-seresnext50_32x4d-drac2022-task3-20220911-1_FindDR.csv',\n",
    " 'timm-efficient_b3-drac2022-task3-20220911-1_FindDR.csv',\n",
    " 'timm-resnet50d-drac2022-task3-20220911-1_FindDR.csv',\n",
    " 'timm-skresnext50_32x4d-drac2022-task3-20220911-1_FindDR.csv']\n",
    "1\n",
    "```"
   ]
  },
  {
   "cell_type": "code",
   "execution_count": null,
   "id": "4d64b36c",
   "metadata": {},
   "outputs": [],
   "source": [
    "import pandas as pd\n",
    "import numpy as np\n",
    "from glob import glob"
   ]
  },
  {
   "cell_type": "code",
   "execution_count": null,
   "id": "0c1b20fe",
   "metadata": {},
   "outputs": [],
   "source": [
    "def softmax_np(arr):\n",
    "    return np.exp(arr)/np.sum(np.exp(arr))"
   ]
  },
  {
   "cell_type": "code",
   "execution_count": null,
   "id": "5bb1be0f",
   "metadata": {},
   "outputs": [],
   "source": [
    "csv_paths = glob(\"*.csv\")\n",
    "csv_paths"
   ]
  },
  {
   "cell_type": "markdown",
   "id": "e24f5b03",
   "metadata": {},
   "source": [
    "`csv_paths` should be like this:\n",
    "```\n",
    "['timm-efficient_b3a-drac2022-task3-20220911-1_FindDR.csv',\n",
    " 'timm-seresnext50_32x4d-drac2022-task3-20220911-1_FindDR.csv',\n",
    " 'timm-efficient_b3-drac2022-task3-20220911-1_FindDR.csv',\n",
    " 'timm-resnet50d-drac2022-task3-20220911-1_FindDR.csv',\n",
    " 'timm-skresnext50_32x4d-drac2022-task3-20220911-1_FindDR.csv']\n",
    " ```"
   ]
  },
  {
   "cell_type": "code",
   "execution_count": null,
   "id": "5bc7929d",
   "metadata": {},
   "outputs": [],
   "source": [
    "dfs = []\n",
    "for csv_path in csv_paths:\n",
    "    dfs.append(pd.read_csv(csv_path))"
   ]
  },
  {
   "cell_type": "code",
   "execution_count": null,
   "id": "e6ac089c",
   "metadata": {},
   "outputs": [],
   "source": [
    "cases = dfs[0][\"case\"].values\n",
    "cls = []\n",
    "P0 = []\n",
    "P1 = []\n",
    "P2 = []\n",
    "for df in dfs:\n",
    "    cls.append(df[\"class\"].values)\n",
    "    P0.append(df[\"P0\"].values)\n",
    "    P1.append(df[\"P1\"].values)\n",
    "    P2.append(df[\"P2\"].values)"
   ]
  },
  {
   "cell_type": "code",
   "execution_count": null,
   "id": "29380f17",
   "metadata": {},
   "outputs": [],
   "source": [
    "cls = np.array(cls, np.uint8)\n",
    "P0 = np.array(P0, np.float32)\n",
    "P1 = np.array(P1, np.float32)\n",
    "P2 = np.array(P2, np.float32)"
   ]
  },
  {
   "cell_type": "code",
   "execution_count": null,
   "id": "cd436a37",
   "metadata": {},
   "outputs": [],
   "source": [
    "cls.shape, P0.shape, P1.shape, P2.shape"
   ]
  },
  {
   "cell_type": "code",
   "execution_count": null,
   "id": "ff825107",
   "metadata": {},
   "outputs": [],
   "source": [
    "hard_voting = np.round(np.mean(cls, axis=0)).astype(np.uint8)\n",
    "P0 = np.mean(P0, axis=0)\n",
    "P1 = np.mean(P1, axis=0)\n",
    "P2 = np.mean(P2, axis=0)"
   ]
  },
  {
   "cell_type": "code",
   "execution_count": null,
   "id": "e3478049",
   "metadata": {},
   "outputs": [],
   "source": [
    "soft_voting = np.array([P0,P1,P2]).T"
   ]
  },
  {
   "cell_type": "code",
   "execution_count": null,
   "id": "b123d86e",
   "metadata": {},
   "outputs": [],
   "source": [
    "soft_cls = []\n",
    "soft_P0 = []\n",
    "soft_P1 = []\n",
    "soft_P2 = []\n",
    "for i in range(soft_voting.shape[0]):\n",
    "    prob = soft_voting[i]\n",
    "    prob = softmax_np(prob)\n",
    "    soft_cls.append(np.argmax(prob))\n",
    "    soft_P0.append(prob[0])\n",
    "    soft_P1.append(prob[1])\n",
    "    soft_P2.append(prob[2])\n",
    "    print(np.sum(prob))\n",
    "soft_cls = np.array(soft_cls, np.uint8)"
   ]
  },
  {
   "cell_type": "code",
   "execution_count": null,
   "id": "f9d3f788",
   "metadata": {},
   "outputs": [],
   "source": [
    "hard_voting"
   ]
  },
  {
   "cell_type": "code",
   "execution_count": null,
   "id": "d1c9bd58",
   "metadata": {},
   "outputs": [],
   "source": [
    "soft_cls"
   ]
  },
  {
   "cell_type": "code",
   "execution_count": null,
   "id": "3bd25cb4",
   "metadata": {},
   "outputs": [],
   "source": [
    "submission_dict = {\n",
    "    \"case\": cases,\n",
    "    \"class\": soft_cls,\n",
    "    \"P0\": soft_P0,\n",
    "    \"P1\": soft_P1,\n",
    "    \"P2\": soft_P2,\n",
    "}"
   ]
  },
  {
   "cell_type": "code",
   "execution_count": null,
   "id": "da70a105",
   "metadata": {},
   "outputs": [],
   "source": [
    "submission_df = pd.DataFrame(submission_dict, columns=['case', 'class', 'P0', 'P1', 'P2'])\n",
    "\n",
    "submission_df.to_csv(f\"Task3_soft_voting_TEAMNAME.csv\", index=False)"
   ]
  },
  {
   "cell_type": "code",
   "execution_count": null,
   "id": "5c00045d",
   "metadata": {},
   "outputs": [],
   "source": [
    "submission_df"
   ]
  }
 ],
 "metadata": {
  "kernelspec": {
   "display_name": "drac2022py38",
   "language": "python",
   "name": "drac2022"
  },
  "language_info": {
   "codemirror_mode": {
    "name": "ipython",
    "version": 3
   },
   "file_extension": ".py",
   "mimetype": "text/x-python",
   "name": "python",
   "nbconvert_exporter": "python",
   "pygments_lexer": "ipython3",
   "version": "3.8.13"
  }
 },
 "nbformat": 4,
 "nbformat_minor": 5
}
